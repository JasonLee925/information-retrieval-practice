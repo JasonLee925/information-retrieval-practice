{
 "cells": [
  {
   "cell_type": "code",
   "execution_count": 1,
   "metadata": {},
   "outputs": [],
   "source": [
    "import re, string\n",
    "from stemming.porter2 import stem\n",
    "\n",
    "def Parse_Q(query, stop_ws):\n",
    "    curr_doc = {}\n",
    "    \n",
    "    query = query.strip()\n",
    "    \n",
    "    #Important: the transformation technique must be the same as add_term() in Q1-1\n",
    "    query = query.translate(str.maketrans('','', string.digits)).translate(str.maketrans(string.punctuation, ' '*len(string.punctuation)))\n",
    "    query = re.sub(\"\\s+\", \" \", query) # remove extra space\n",
    "    \n",
    "    for term in query.split():\n",
    "        term = stem(term.lower() )\n",
    "        if len(term) > 2 and term not in stop_ws: \n",
    "            curr_doc[term] = curr_doc.get(term, 0) + 1\n",
    "        \n",
    "        \n",
    "    return(curr_doc)\n",
    "\n"
   ]
  },
  {
   "cell_type": "code",
   "execution_count": 2,
   "metadata": {},
   "outputs": [],
   "source": [
    "stopwords_f = open('common-english-words.txt', 'r') \n",
    "stop_words = stopwords_f.read().split(',')\n",
    "stopwords_f.close()"
   ]
  },
  {
   "cell_type": "code",
   "execution_count": 9,
   "metadata": {},
   "outputs": [
    {
     "data": {
      "text/plain": [
       "{'instanc': 1,\n",
       " 'studi': 1,\n",
       " 'publish': 1,\n",
       " 'cognit': 1,\n",
       " 'emot': 3,\n",
       " 'found': 1,\n",
       " 'posit': 1,\n",
       " 'content': 1,\n",
       " 'amus': 1,\n",
       " 'acceler': 1,\n",
       " 'cardiovascular': 1,\n",
       " 'recoveri': 1,\n",
       " 'follow': 1,\n",
       " 'negat': 1,\n",
       " 'experi': 1}"
      ]
     },
     "execution_count": 9,
     "metadata": {},
     "output_type": "execute_result"
    }
   ],
   "source": [
    "# Query 1\n",
    "Parse_Q('For instance, a study published in Cognition & Emotion in 1954 found that positive emotions like contentment and amusement can accelerate cardiovascular recovery following negative emotional experiences.', stop_words)"
   ]
  },
  {
   "cell_type": "code",
   "execution_count": 10,
   "metadata": {},
   "outputs": [
    {
     "data": {
      "text/plain": [
       "{'healthcar': 1,\n",
       " 'robot': 1,\n",
       " 'capabl': 1,\n",
       " 'care': 1,\n",
       " 'patient': 1,\n",
       " 'home': 1,\n",
       " 'hospit': 1,\n",
       " 'set': 1}"
      ]
     },
     "execution_count": 10,
     "metadata": {},
     "output_type": "execute_result"
    }
   ],
   "source": [
    "# Query 2\n",
    "Parse_Q('An AI healthcare robot is capable of caring for patients at home or in a hospital setting.', stop_words)"
   ]
  },
  {
   "cell_type": "code",
   "execution_count": 11,
   "metadata": {},
   "outputs": [
    {
     "data": {
      "text/plain": [
       "{'research': 1,\n",
       " 'indic': 1,\n",
       " 'posit': 1,\n",
       " 'emot': 2,\n",
       " 'undo': 1,\n",
       " 'cardiovascular': 1,\n",
       " 'effect': 1,\n",
       " 'negat': 1,\n",
       " 'help': 1,\n",
       " 'bodi': 1,\n",
       " 'return': 1,\n",
       " 'rest': 1,\n",
       " 'state': 1,\n",
       " 'more': 1,\n",
       " 'quick': 1}"
      ]
     },
     "execution_count": 11,
     "metadata": {},
     "output_type": "execute_result"
    }
   ],
   "source": [
    "# Query 3\n",
    "Parse_Q('Research indicates that positive emotions can undo the cardiovascular effects of negative emotions, helping the body return to a resting state more quickly', stop_words)"
   ]
  },
  {
   "cell_type": "code",
   "execution_count": null,
   "metadata": {},
   "outputs": [],
   "source": []
  }
 ],
 "metadata": {
  "kernelspec": {
   "display_name": "Python 3",
   "language": "python",
   "name": "python3"
  },
  "language_info": {
   "codemirror_mode": {
    "name": "ipython",
    "version": 3
   },
   "file_extension": ".py",
   "mimetype": "text/x-python",
   "name": "python",
   "nbconvert_exporter": "python",
   "pygments_lexer": "ipython3",
   "version": "3.11.5"
  }
 },
 "nbformat": 4,
 "nbformat_minor": 2
}
