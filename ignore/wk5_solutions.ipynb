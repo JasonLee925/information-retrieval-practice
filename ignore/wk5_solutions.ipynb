{
 "cells": [
  {
   "cell_type": "markdown",
   "id": "564b9748",
   "metadata": {},
   "source": [
    "# Inverted Index and Query Processing\n",
    "<author>&copy; Prepared by Professor Yuefeng Li (QUT) </author>\n"
   ]
  },
  {
   "cell_type": "markdown",
   "id": "592a622f",
   "metadata": {},
   "source": [
    "## Task 1. \n",
    "For the given two XML documents (you can download them from week 3 workshop and then save them in a folder, e.g., ‘data’), design a python function index_docs() to index them (please remove stop words and index stems only). \n",
    "\n",
    "The returned index should be a dictionary {term:{docID1:freq1, DocID2:freq2}, …}"
   ]
  },
  {
   "cell_type": "code",
   "execution_count": 1,
   "id": "7d25c714",
   "metadata": {},
   "outputs": [],
   "source": [
    "import glob, os\n",
    "import string\n",
    "from stemming.porter2 import stem\n",
    "\n",
    "def index_docs(inputpath,stop_words):\n",
    "    Index = {}    # initialize the index\n",
    "    os.chdir(inputpath)\n",
    "    for file_ in glob.glob(\"*.xml\"):\n",
    "        start_end = False\n",
    "        for line in open(file_):\n",
    "            line = line.strip()\n",
    "            if(start_end == False):\n",
    "                if line.startswith(\"<newsitem \"):\n",
    "                    for part in line.split():\n",
    "                        if part.startswith(\"itemid=\"):\n",
    "                            docid = part.split(\"=\")[1].split(\"\\\"\")[1]\n",
    "                            break  \n",
    "                if line.startswith(\"<text>\"):\n",
    "                    start_end = True  \n",
    "            elif line.startswith(\"</text>\"):\n",
    "                break\n",
    "            else:\n",
    "                line = line.replace(\"<p>\", \"\").replace(\"</p>\", \"\")\n",
    "                line = line.translate(str.maketrans('','', string.digits)).translate(str.maketrans(string.punctuation, ' '*len(string.punctuation)))\n",
    "                for term in line.split():\n",
    "                    term = stem(term.lower())\n",
    "                    if len(term) > 2 and term not in stop_words:\n",
    "                        try:\n",
    "                            try:\n",
    "                                Index[term][docid] += 1\n",
    "                            except KeyError:\n",
    "                                Index[term][docid]=1\n",
    "                        except KeyError:  \n",
    "                            Index[term] = {docid:1} \n",
    "    return Index"
   ]
  },
  {
   "cell_type": "code",
   "execution_count": 2,
   "id": "2e65e0ab",
   "metadata": {},
   "outputs": [],
   "source": [
    "# Note that text preprocessing happens before terms are indexed, where terms are stemmed.\n"
   ]
  },
  {
   "cell_type": "markdown",
   "id": "7bfc5c32",
   "metadata": {},
   "source": [
    "## Task 2. \n",
    "Design a python function **doc_at_a_time(I, Q)**, where index I is a Dictionary of term:Directionary of (itemId:freq), which returns a dictionary of docId:relevance for the given query Q (a term:freq dictionary)."
   ]
  },
  {
   "cell_type": "code",
   "execution_count": 3,
   "id": "4fde622a",
   "metadata": {},
   "outputs": [],
   "source": [
    "def doc_at_a_time(I, Q):  # index I is a Dirctionary of term:Directionary of (itemId:freq)\n",
    "    L={}    # L is the selected inverted list\n",
    "    R={}    # R is a directionary of docId:relevance\n",
    "    for list in I.items():\n",
    "        for id in list[1].items(): # get all document IDs with value 0\n",
    "            R[id[0]]=0\n",
    "        if (list[0] in Q):     # select inverted lists based on the query\n",
    "                L[list[0]]= I[list[0]]\n",
    "    for (d, sd) in R.items():\n",
    "        for (term, f) in L.items():\n",
    "            if (d in f):\n",
    "                sd = sd + f[d]*Q[term]\n",
    "        R[d] = sd\n",
    "    return R"
   ]
  },
  {
   "cell_type": "markdown",
   "id": "d6f47083",
   "metadata": {},
   "source": [
    "## Task 3. \n",
    "Design a python function **term_at_a_time(I, Q)**, where index I is a Dictionary of term:Directionary of (itemId:freq), which returns a dictionary of docId:relevance for the given query Q (a term:freq dictionary)."
   ]
  },
  {
   "cell_type": "code",
   "execution_count": 4,
   "id": "5433bdef",
   "metadata": {},
   "outputs": [],
   "source": [
    "def term_at_a_time(I, Q):  # index I is a Dirctionary of term:Directionary of (itemId:freq)\n",
    "    L={}    # L is the selected inverted list\n",
    "    R={}    # R is a directionary of docId:relevance\n",
    "    for list in I.items():\n",
    "        for id in list[1].items(): # get all document IDs with value 0\n",
    "            R[id[0]]=0\n",
    "        if (list[0] in Q):     # select inverted lists based on the query\n",
    "                L[list[0]]= I[list[0]]\n",
    "    for (term, li) in L.items():  # traversal of the selected inverted list\n",
    "        for (d, f) in li.items(): # for each occurence of doc, update R \n",
    "                R[d] = R[d]  + f*Q[term]\n",
    "    return R"
   ]
  },
  {
   "cell_type": "markdown",
   "id": "cc5fe317",
   "metadata": {},
   "source": [
    "## Task 4. \n",
    "Design a python main program to call the above three functions for a query, e.g., Query = {'formula':1, 'one':1}."
   ]
  },
  {
   "cell_type": "code",
   "execution_count": 5,
   "id": "81e4129b",
   "metadata": {},
   "outputs": [
    {
     "name": "stdout",
     "output_type": "stream",
     "text": [
      "/Users/li3/Desktop/QUT_CS_YLi/teaching/Sem1_2023/IFN647/IFN647week5/w5_workshop/w5_workshop_solution\n",
      "{'lehto': {'741299': 2}, 'finland': {'741299': 1}, 'steve': {'741299': 1}, 'soper': {'741299': 2}, 'britain': {'741299': 1}, 'drove': {'741299': 1}, 'ail': {'741299': 1}, 'mclaren': {'741299': 1}, 'victori': {'741299': 2}, 'fifth': {'741299': 1}, 'round': {'741299': 1}, 'world': {'741299': 1}, 'championship': {'741299': 1}, 'sunday': {'741299': 1}, 'beat': {'741299': 1}, 'merced': {'741299': 1}, 'german': {'741299': 2}, 'bernd': {'741299': 1}, 'schneider': {'741299': 2}, 'austrian': {'741299': 1}, 'alexand': {'741299': 1}, 'wurz': {'741299': 1}, 'second': {'741299': 2}, 'enabl': {'741299': 1}, 'open': {'741299': 3, '809495': 1, '6146': 1}, 'point': {'741299': 1, '6146': 1}, 'lead': {'741299': 3}, 'overal': {'741299': 1}, 'stand': {'741299': 1, '809495': 2}, 'over': {'741299': 2}, 'mount': {'741299': 1}, 'strong': {'741299': 1}, 'challeng': {'741299': 1}, 'struggl': {'741299': 2}, 'leader': {'741299': 1}, 'final': {'741299': 1}, 'minut': {'741299': 1}, 'four': {'741299': 1}, 'hour': {'741299': 1, '809495': 2}, 'race': {'741299': 2}, 'car': {'741299': 3}, 'handl': {'741299': 1}, 'caus': {'741299': 1, '809481': 1, '809495': 1}, 'broken': {'741299': 1}, 'undertray': {'741299': 1}, 'manag': {'741299': 1, '809481': 1}, 'hold': {'741299': 1, '809481': 1}, 'win': {'741299': 1}, 'dure': {'741299': 1, '809495': 1, '6146': 1}, 'mid': {'741299': 1}, 'downpour': {'741299': 1}, 'ardenn': {'741299': 1}, 'mountain': {'741299': 1}, 'quot': {'741299': 4, '809495': 13, '6146': 2}, 'thought': {'741299': 1}, 'everyon': {'741299': 1}, 'els': {'741299': 1}, 'drive': {'741299': 1}, 'dri': {'741299': 1}, 'weather': {'741299': 1}, 'tyre': {'741299': 2}, 'joke': {'741299': 1}, 'afterward': {'741299': 1}, 'swap': {'741299': 1}, 'rain': {'741299': 1, '809495': 1}, 'exact': {'741299': 1}, 'right': {'741299': 1}, 'time': {'741299': 1}, 'abl': {'741299': 1, '809495': 1}, 'push': {'741299': 1}, 'hard': {'741299': 1}, 'big': {'741299': 1}, 'third': {'741299': 1}, 'finish': {'741299': 1}, 'porsch': {'741299': 1}, 'franc': {'741299': 1}, 'bob': {'741299': 1}, 'wollek': {'741299': 1}, 'yannick': {'741299': 1}, 'dalma': {'741299': 1}, 'belgian': {'741299': 2}, 'thierri': {'741299': 1}, 'boutsen': {'741299': 1}, 'former': {'741299': 1}, 'formula': {'741299': 1}, 'one': {'741299': 1, '809495': 1}, 'driver': {'741299': 1}, 'switch': {'741299': 1}, 'normal': {'741299': 1}, 'share': {'741299': 1, '809481': 1}, 'han': {'741299': 1}, 'stuck': {'741299': 1}, 'follow': {'741299': 1, '809495': 1}, 'power': {'741299': 1, '809495': 1}, 'steer': {'741299': 1}, 'failur': {'741299': 1}, 'sherritt': {'809481': 5}, 'intern': {'809481': 3, '6146': 1}, 'corp': {'809481': 3}, 'tuesday': {'809481': 1, '809495': 3}, 'wholli': {'809481': 1}, 'metallurg': {'809481': 1}, 'technolog': {'809481': 1}, 'busi': {'809481': 1}, 'plan': {'809481': 1}, 'acquir': {'809481': 1}, 'outstand': {'809481': 1}, 'dynatec': {'809481': 8}, 'ltd': {'809481': 1}, 'privat': {'809481': 1}, 'mine': {'809481': 1}, 'drill': {'809481': 1}, 'servic': {'809481': 1}, 'compani': {'809481': 5}, 'spin': {'809481': 1}, 'merg': {'809481': 1}, 'new': {'809481': 1, '6146': 1}, 'form': {'809481': 1}, 'merger': {'809481': 1}, 'consult': {'809481': 1}, 'inc': {'809481': 1}, 'call': {'809481': 1, '809495': 2}, 'file': {'809481': 1}, 'canadian': {'809481': 2}, 'secur': {'809481': 2, '809495': 3}, 'regul': {'809481': 1}, 'preliminari': {'809481': 1}, 'prospectus': {'809481': 1}, 'divid': {'809481': 1}, 'kind': {'809481': 1}, 'sharehold': {'809481': 1}, 'interest': {'809481': 3, '809495': 1}, 'longer': {'809481': 1}, 'ani': {'809481': 1}, 'public': {'809481': 1}, 'trade': {'809481': 2}, 'intl': {'809481': 1}, 'retain': {'809481': 1}, 'signific': {'809481': 1}, 'equiti': {'809481': 1}, 'robert': {'809481': 1}, 'dengler': {'809481': 1}, 'presid': {'809481': 1, '809495': 3}, 'chief': {'809481': 1, '809495': 1}, 'execut': {'809481': 1}, 'offic': {'809481': 1}, 'cuba': {'809481': 1}, 'problem': {'809481': 1}, 'becaus': {'809481': 1}, 'law': {'809481': 1}, 'penal': {'809481': 1}, 'such': {'809481': 1}, 'activ': {'809481': 1}, 'reuter': {'809481': 1}, 'toronto': {'809481': 1}, 'bureau': {'809481': 1}, 'pro': {'809495': 4}, 'iranian': {'809495': 1}, 'hizbollah': {'809495': 7}, 'fighter': {'809495': 1}, 'lebanon': {'809495': 11}, 'score': {'809495': 1}, 'katyusha': {'809495': 4}, 'rocket': {'809495': 5}, 'northern': {'809495': 3}, 'israel': {'809495': 13}, 'prompt': {'809495': 1}, 'threat': {'809495': 1}, 'prime': {'809495': 1}, 'minist': {'809495': 2, '6146': 1}, 'benjamin': {'809495': 1}, 'netanyahu': {'809495': 5}, 'tough': {'809495': 2}, 'isra': {'809495': 9}, 'respons': {'809495': 3}, 'quiet': {'809495': 3}, 'side': {'809495': 4}, 'border': {'809495': 2}, 'told': {'809495': 2}, 'report': {'809495': 2}, 'damag': {'809495': 1}, 'hous': {'809495': 1}, 'tour': {'809495': 2}, 'town': {'809495': 3}, 'kiryat': {'809495': 1}, 'shmona': {'809495': 1}, 'civilian': {'809495': 7}, 'man': {'809495': 2}, 'light': {'809495': 1}, 'wound': {'809495': 3}, 'attack': {'809495': 8}, 'part': {'809495': 2}, 'galile': {'809495': 1}, 'twin': {'809495': 1}, 'morn': {'809495': 1}, 'barrag': {'809495': 1}, 'apart': {'809495': 1}, 'deepen': {'809495': 1}, 'fear': {'809495': 1}, 'futur': {'809495': 1}, 'agreement': {'809495': 2}, 'last': {'809495': 2}, 'year': {'809495': 2}, 'target': {'809495': 2}, 'appeal': {'809495': 2}, 'damascus': {'809495': 1}, 'main': {'809495': 1}, 'broker': {'809495': 1}, 'curb': {'809495': 1}, 'syria': {'809495': 2}, 'stop': {'809495': 1}, 'shoot': {'809495': 2}, 'understand': {'809495': 1}, 'contact': {'809495': 1}, 'unit': {'809495': 1}, 'state': {'809495': 1}, 'alreadi': {'809495': 2}, 'turn': {'809495': 1}, 'issu': {'809495': 1}, 'day': {'809495': 1}, 'violenc': {'809495': 3}, 'monday': {'809495': 3}, 'kill': {'809495': 3}, 'seven': {'809495': 2}, 'shell': {'809495': 3}, 'southern': {'809495': 2}, 'port': {'809495': 1}, 'citi': {'809495': 1}, 'sidon': {'809495': 2}, 'forc': {'809495': 1}, 'militia': {'809495': 3}, 'antoin': {'809495': 1}, 'lahd': {'809495': 2}, 'stronghold': {'809495': 1}, 'jezzin': {'809495': 4}, 'secretari': {'809495': 1}, 'general': {'809495': 1, '6146': 1}, 'kofi': {'809495': 1}, 'annan': {'809495': 1}, 'urg': {'809495': 1}, 'exercis': {'809495': 1}, 'restraint': {'809495': 1}, 'echo': {'809495': 1}, 'european': {'809495': 1}, 'union': {'809495': 1}, 'struck': {'809495': 1}, 'way': {'809495': 1}, 'work': {'809495': 2}, 'slight': {'809495': 1, '6146': 2}, 'wit': {'809495': 1}, 'sourc': {'809495': 1}, 'old': {'809495': 2}, 'woman': {'809495': 1}, 'grappl': {'809495': 1}, 'crisi': {'809495': 1}, 'palestinian': {'809495': 5}, 'yasser': {'809495': 1}, 'arafat': {'809495': 3}, 'halt': {'809495': 1}, 'spiral': {'809495': 1}, 'serv': {'809495': 1}, 'notic': {'809495': 1}, 'toler': {'809495': 1}, 'respond': {'809495': 1}, 'sever': {'809495': 1}, 'live': {'809495': 1}, 'hope': {'809495': 1}, 'messag': {'809495': 1}, 'absorb': {'809495': 1}, 'mean': {'809495': 1}, 'offici': {'809495': 2}, 'statement': {'809495': 1}, 'defenc': {'809495': 1}, 'yitzhak': {'809495': 1}, 'mordechai': {'809495': 2}, 'north': {'809495': 2}, 'ezer': {'809495': 1}, 'weizman': {'809495': 1}, 'vow': {'809495': 1}, 'war': {'809495': 1}, 'govern': {'809495': 1, '6146': 1}, 'armi': {'809495': 4}, 'take': {'809495': 1}, 'good': {'809495': 1}, 'look': {'809495': 1}, 'deed': {'809495': 1}, 'ensur': {'809495': 1}, 'accord': {'809495': 1}, 'lebanes': {'809495': 2}, 'join': {'809495': 1}, 'posit': {'809495': 1}, 'south': {'809495': 1}, 'sla': {'809495': 2}, 'outsid': {'809495': 1}, 'nine': {'809495': 1}, 'mile': {'809495': 1}, 'deep': {'809495': 1}, 'occup': {'809495': 1}, 'zone': {'809495': 2}, 'set': {'809495': 1}, 'declar': {'809495': 2}, 'aim': {'809495': 1}, 'prevent': {'809495': 1}, 'guerrilla': {'809495': 1}, 'fight': {'809495': 1}, 'oust': {'809495': 1}, 'troop': {'809495': 1}, 'signal': {'809495': 1}, 'defianc': {'809495': 1}, 'possibl': {'809495': 1}, 'repris': {'809495': 1}, 'swift': {'809495': 1}, 'claim': {'809495': 1}, 'islam': {'809495': 2}, 'resist': {'809495': 1}, 'settlement': {'809495': 1}, 'occupi': {'809495': 1}, 'palestin': {'809495': 1}, 'number': {'809495': 1}, 'mani': {'809495': 1}, 'casualti': {'809495': 1}, 'spokesman': {'809495': 1}, 'beirut': {'809495': 1}, 'includ': {'809495': 1, '6146': 1}, 'two': {'809495': 1}, 'month': {'809495': 2}, 'boy': {'809495': 1}, 'militiamen': {'809495': 1}, 'beyond': {'809495': 1}, 'control': {'809495': 1}, 'men': {'809495': 1}, 'appar': {'809495': 1}, 'aveng': {'809495': 1}, 'three': {'809495': 1}, 'youth': {'809495': 1}, 'roadsid': {'809495': 1}, 'bomb': {'809495': 3}, 'area': {'809495': 1}, 'accus': {'809495': 1}, 'carri': {'809495': 1}, 'out': {'809495': 1}, 'cycl': {'809495': 1}, 'contraven': {'809495': 1}, 'parti': {'809495': 1}, 'conflict': {'809495': 1}, 'reach': {'809495': 1}, 'launch': {'809495': 2}, 'bloodi': {'809495': 1}, 'offens': {'809495': 1}, 'april': {'809495': 1}, 'deflect': {'809495': 1}, 'attent': {'809495': 1}, 'author': {'809495': 3}, 'doubl': {'809495': 1}, 'suicid': {'809495': 1}, 'jerusalem': {'809495': 1}, 'schedul': {'809495': 1}, 'transfer': {'809495': 1}, 'million': {'809495': 1}, 'percent': {'809495': 1, '6146': 1}, 'fund': {'809495': 2, '6146': 1}, 'owe': {'809495': 1}, 'froze': {'809495': 1}, 'econom': {'809495': 1, '6146': 1}, 'clampdown': {'809495': 1}, 'order': {'809495': 1}, 'payment': {'809495': 1}, 'partial': {'809495': 1}, 'cooper': {'809495': 1}, 'still': {'809495': 1}, 'await': {'809495': 1, '6146': 1}, 'money': {'809495': 1}, 'rest': {'809495': 1}, 'crackdown': {'809495': 1}, 'suspect': {'809495': 1}, 'moslem': {'809495': 1}, 'milit': {'809495': 1}, 'hama': {'809495': 1}, 'jihad': {'809495': 1}, 'group': {'809495': 1}, 'someth': {'809495': 1}, 'refus': {'809495': 1}, 'argentin': {'6146': 1}, 'bond': {'6146': 1}, 'higher': {'6146': 1}, 'small': {'6146': 1}, 'technic': {'6146': 2}, 'bounc': {'6146': 2}, 'wednesday': {'6146': 1}, 'amid': {'6146': 1}, 'low': {'6146': 1}, 'volum': {'6146': 1}, 'trader': {'6146': 3}, 'larg': {'6146': 1}, 'foreign': {'6146': 1}, 'bank': {'6146': 1}, 'expect': {'6146': 3}, 'price': {'6146': 1}, 'chang': {'6146': 1}, 'much': {'6146': 1}, 'session': {'6146': 1}, 'market': {'6146': 2}, 'move': {'6146': 1}, 'news': {'6146': 1}, 'dollar': {'6146': 1}, 'denomin': {'6146': 1}, 'bocon': {'6146': 1}, 'prevision': {'6146': 1}, 'due': {'6146': 2}, 'rose': {'6146': 2}, 'argentina': {'6146': 2}, 'frb': {'6146': 1}, 'uncertainti': {'6146': 1}, 'event': {'6146': 1}, 'wait': {'6146': 1}, 'passag': {'6146': 1}, 'measur': {'6146': 1}, 'through': {'6146': 1}, 'congress': {'6146': 1}, 'now': {'6146': 1}, 'until': {'6146': 1}, 'earli': {'6146': 1}, 'octob': {'6146': 1}, 'addit': {'6146': 1}, 'meet': {'6146': 1}, 'friday': {'6146': 1}, 'between': {'6146': 1}, 'economi': {'6146': 1}, 'roqu': {'6146': 1}, 'fernandez': {'6146': 1}, 'monetari': {'6146': 1}, 'deleg': {'6146': 1}, 'fiscal': {'6146': 1}, 'deficit': {'6146': 1}, 'axel': {'6146': 1}, 'bugg': {'6146': 1}, 'bueno': {'6146': 1}, 'air': {'6146': 1}, 'newsroom': {'6146': 1}}\n",
      "Document_at_a_time result--------\n",
      "Document ID: 741299 and relevance weight: 2\n",
      "Document ID: 809495 and relevance weight: 1\n",
      "Term_at_a_time result --------\n",
      "Document ID: 741299 and relevance weight: 2\n",
      "Document ID: 809495 and relevance weight: 1\n"
     ]
    }
   ],
   "source": [
    "#if __name__ == '__main__':\n",
    "\n",
    "import sys\n",
    "\n",
    "    #if len(sys.argv) != 2:\n",
    "     #   sys.stderr.write(\"USAGE: %s <coll-file>\\n\" % sys.argv[0])\n",
    "      #  sys.exit()\n",
    "\n",
    "curr_path=os.getcwd()\n",
    "print(curr_path)\n",
    "    \n",
    "stopwords_f = open('common-english-words.txt', 'r')\n",
    "stop_words = stopwords_f.read().split(',')\n",
    "stopwords_f.close()\n",
    "#Index = index_docs(sys.argv[1], stop_words) #create an index for all terms in <text>, data structure {'w1':{'ID1':2, 'ID2':1}, 'w2':{'ID3':1, 'ID1':3}}\n",
    "\"\"\"    for term in coll.items():\n",
    "        print \"Term --- %s\" % (term[0])\n",
    "        for id in coll[term[0]].items(): \n",
    "            print \"   Document ID: %s and frequency: %d\" % (id[0], id[1]) \"\"\"\n",
    "#Query = {'leaderboard':1, 'british':1}\n",
    "#print(Index)\n",
    "\n",
    "data_path = curr_path+'/data'\n",
    "Index = index_docs(data_path, stop_words) #create an index for all terms in <text>, data structure {'w1':{'ID1':2, 'ID2':1}, 'w2':{'ID3':1, 'ID1':3}}\n",
    "os.chdir(curr_path)\n",
    "print(Index)\n",
    "\n",
    "Query = {'formula':1, 'one':1} \n",
    "result1 = doc_at_a_time(Index, Query)\n",
    "result2 = term_at_a_time(Index, Query)\n",
    "x1 = sorted(result1.items(), key=lambda x: x[1],reverse=True)\n",
    "x2 = sorted(result2.items(), key=lambda x: x[1],reverse=True)\n",
    "print('Document_at_a_time result--------')\n",
    "for (id, w) in x1:\n",
    "    if w>0:\n",
    "        print('Document ID: '+id + ' and relevance weight: ' + str(w))\n",
    "print('Term_at_a_time result --------')\n",
    "for (id, w) in x2:\n",
    "    if w>0:\n",
    "        print('Document ID: ' + id + ' and relevance weight: ' + str(w))"
   ]
  },
  {
   "cell_type": "code",
   "execution_count": 6,
   "id": "393a8260",
   "metadata": {},
   "outputs": [],
   "source": [
    "# We assume the jupyter starts from your working directory.\n",
    "# We use os methods to find the current working directory 'curre_path', then data's directory 'data_path'.\n",
    "# Note we need to go back to the current working directory after call index_docs as it changed the working directory.\n",
    "# You may change the 'Query' to test more queries.  "
   ]
  }
 ],
 "metadata": {
  "kernelspec": {
   "display_name": "Python 3",
   "language": "python",
   "name": "python3"
  },
  "language_info": {
   "codemirror_mode": {
    "name": "ipython",
    "version": 3
   },
   "file_extension": ".py",
   "mimetype": "text/x-python",
   "name": "python",
   "nbconvert_exporter": "python",
   "pygments_lexer": "ipython3",
   "version": "3.8.8"
  }
 },
 "nbformat": 4,
 "nbformat_minor": 5
}
