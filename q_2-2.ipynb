{
 "cells": [
  {
   "cell_type": "code",
   "execution_count": 47,
   "metadata": {},
   "outputs": [
    {
     "name": "stdout",
     "output_type": "stream",
     "text": [
      "15\n",
      "suzuki\n",
      "number of term appears in the doc = 13\n",
      "total_number_terms = 241\n",
      "＊tf= 0.05394190871369295\n",
      "ndocs= 15\n",
      "d_f[term]=5\n",
      "＊idf=0.47712125471966244\n",
      "0.025736831167450673\n"
     ]
    }
   ],
   "source": [
    "from q1_1 import Parse_Docs \n",
    "from q2_1 import df\n",
    "import math\n",
    "\n",
    "\n",
    "\n",
    "def tfidf(doc, d_f, ndocs = 0):\n",
    "    total_number_terms = len(doc.terms)\n",
    "    print(ndocs)\n",
    "    weights = {}\n",
    "    for term, num in doc.terms.items():\n",
    "        tf = num / total_number_terms\n",
    "        idf = math.log10(ndocs / d_f[term])\n",
    "        if term == 'suzuki':\n",
    "            print(term)\n",
    "            print(\"number of term appears in the doc = \"+ str(num))\n",
    "            print(\"total_number_terms = \"+ str(total_number_terms))\n",
    "            print(\"＊tf= \" + str(tf))\n",
    "            print(\"ndocs= \" + str(ndocs))\n",
    "            print(\"d_f[term]=\" + str(d_f[term]))\n",
    "            print(\"＊idf=\" + str(idf))\n",
    "            print(tf * idf)\n",
    "        \n",
    "        weights[term] = tf * idf\n",
    "        \n",
    "        \n",
    "    weights = dict(sorted(weights.items(), key=lambda item: item[1], reverse=True))\n",
    "    # print(weights)\n",
    "    return weights\n",
    "\n",
    "stopwords_f = open('common-english-words.txt', 'r') \n",
    "stop_words = stopwords_f.read().split(',')\n",
    "stopwords_f.close()\n",
    "\n",
    "directory = \"RCV1v3/\"  # Change this to your target directory\n",
    "\n",
    "docV3s = Parse_Docs(stop_words, directory)\n",
    "\n",
    "test_doc = None\n",
    "\n",
    "for id, doc in docV3s.items():\n",
    "    terms = doc.terms\n",
    "    # print(terms)\n",
    "    if doc.newsID == '80483':\n",
    "        test_doc = doc\n",
    "\n",
    "\n",
    "dfs = df(docV3s)\n",
    "    \n",
    "x = tfidf(test_doc, dfs, len(docV3s))"
   ]
  },
  {
   "cell_type": "code",
   "execution_count": null,
   "metadata": {},
   "outputs": [],
   "source": [
    "dfs = df(docV3s)\n",
    "print(dfs)"
   ]
  }
 ],
 "metadata": {
  "kernelspec": {
   "display_name": "Python 3",
   "language": "python",
   "name": "python3"
  },
  "language_info": {
   "codemirror_mode": {
    "name": "ipython",
    "version": 3
   },
   "file_extension": ".py",
   "mimetype": "text/x-python",
   "name": "python",
   "nbconvert_exporter": "python",
   "pygments_lexer": "ipython3",
   "version": "3.11.5"
  }
 },
 "nbformat": 4,
 "nbformat_minor": 2
}
